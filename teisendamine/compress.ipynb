{
 "cells": [
  {
   "cell_type": "code",
   "execution_count": 1,
   "id": "d315f2ad",
   "metadata": {},
   "outputs": [],
   "source": [
    "from skimage.io import imread, imshow, imsave\n",
    "from skimage import img_as_float\n",
    "import numpy as np\n",
    "import glob"
   ]
  },
  {
   "cell_type": "code",
   "execution_count": 2,
   "id": "7ecf2873",
   "metadata": {},
   "outputs": [],
   "source": [
    "def pixel(ind,img):\n",
    "    r,g,b=0,0,0\n",
    "    for p in range(len(ind)):\n",
    "        x,y = ind[p]\n",
    "        r = img[x,y] [0] + r\n",
    "        g = img[x,y] [1] + g\n",
    "        b = img[x,y] [2] + b\n",
    "    return  (0.299*r + 0.587*g + 0.114*b)/len(ind)"
   ]
  },
  {
   "cell_type": "code",
   "execution_count": 3,
   "id": "e815fc11",
   "metadata": {},
   "outputs": [],
   "source": [
    "def koordinaadid(file):\n",
    "    img= imread(file)\n",
    "    image = np.zeros((128, 128), dtype=np.uint8)\n",
    "    for hh in range(128):\n",
    "        for ww in range(128):\n",
    "            result = (hh*128 + ww)\n",
    "            image[hh,ww]= pixel(index[result],img)\n",
    "    return(image)"
   ]
  },
  {
   "cell_type": "code",
   "execution_count": 4,
   "id": "e2d8d24e",
   "metadata": {},
   "outputs": [],
   "source": [
    "koo=[]\n",
    "\n",
    "def xid(i):\n",
    "    xi=[]\n",
    "    for j in range(512):\n",
    "        xi.append([i,j])\n",
    "    return xi\n",
    "for i in range(512):\n",
    "    koo.append(xid(i))\n",
    "out=[]\n",
    "for ruut in range(0,len(koo),4):\n",
    "    for ruut2 in range(0,len(koo)):\n",
    "        out.extend(koo[ruut2][ruut:ruut+4])\n",
    "index=[]\n",
    "for t in range(0,len(out),16):\n",
    "    index.append(out[t:t+16])"
   ]
  },
  {
   "cell_type": "code",
   "execution_count": 5,
   "id": "3fbedd7f",
   "metadata": {},
   "outputs": [
    {
     "name": "stderr",
     "output_type": "stream",
     "text": [
      "C:\\Users\\revolver\\AppData\\Local\\Temp/ipykernel_22980/1185812483.py:8: UserWarning: skimageTEST2\\abstract_antonio-calderara_2407.jpg is a low contrast image\n",
      "  imsave(f\"{outputimg}{file[12::]}\",koordinaadid(file))\n",
      "C:\\Users\\revolver\\AppData\\Local\\Temp/ipykernel_22980/1185812483.py:8: UserWarning: skimageTEST2\\abstract_antonio-calderara_2408.jpg is a low contrast image\n",
      "  imsave(f\"{outputimg}{file[12::]}\",koordinaadid(file))\n",
      "C:\\Users\\revolver\\AppData\\Local\\Temp/ipykernel_22980/1185812483.py:8: UserWarning: skimageTEST2\\abstract_bernard-cohen_2781.jpg is a low contrast image\n",
      "  imsave(f\"{outputimg}{file[12::]}\",koordinaadid(file))\n",
      "C:\\Users\\revolver\\AppData\\Local\\Temp/ipykernel_22980/1185812483.py:8: UserWarning: skimageTEST2\\abstract_bernard-cohen_2784.jpg is a low contrast image\n",
      "  imsave(f\"{outputimg}{file[12::]}\",koordinaadid(file))\n",
      "C:\\Users\\revolver\\AppData\\Local\\Temp/ipykernel_22980/1185812483.py:8: UserWarning: skimageTEST2\\abstract_bob-law_7411.jpg is a low contrast image\n",
      "  imsave(f\"{outputimg}{file[12::]}\",koordinaadid(file))\n",
      "C:\\Users\\revolver\\AppData\\Local\\Temp/ipykernel_22980/1185812483.py:8: UserWarning: skimageTEST2\\abstract_ellsworth-kelly_6798.jpg is a low contrast image\n",
      "  imsave(f\"{outputimg}{file[12::]}\",koordinaadid(file))\n",
      "C:\\Users\\revolver\\AppData\\Local\\Temp/ipykernel_22980/1185812483.py:8: UserWarning: skimageTEST2\\abstract_fernand-leduc_7511.jpg is a low contrast image\n",
      "  imsave(f\"{outputimg}{file[12::]}\",koordinaadid(file))\n",
      "C:\\Users\\revolver\\AppData\\Local\\Temp/ipykernel_22980/1185812483.py:8: UserWarning: skimageTEST2\\abstract_ian-burn_2197.jpg is a low contrast image\n",
      "  imsave(f\"{outputimg}{file[12::]}\",koordinaadid(file))\n",
      "C:\\Users\\revolver\\AppData\\Local\\Temp/ipykernel_22980/1185812483.py:8: UserWarning: skimageTEST2\\abstract_lee-ufan_7528.jpg is a low contrast image\n",
      "  imsave(f\"{outputimg}{file[12::]}\",koordinaadid(file))\n",
      "C:\\Users\\revolver\\AppData\\Local\\Temp/ipykernel_22980/1185812483.py:8: UserWarning: skimageTEST2\\abstract_paul-brach_2033.jpg is a low contrast image\n",
      "  imsave(f\"{outputimg}{file[12::]}\",koordinaadid(file))\n",
      "C:\\Users\\revolver\\AppData\\Local\\Temp/ipykernel_22980/1185812483.py:8: UserWarning: skimageTEST2\\abstract_paul-brach_2034.jpg is a low contrast image\n",
      "  imsave(f\"{outputimg}{file[12::]}\",koordinaadid(file))\n",
      "C:\\Users\\revolver\\AppData\\Local\\Temp/ipykernel_22980/1185812483.py:8: UserWarning: skimageTEST2\\abstract_paul-brach_2040.jpg is a low contrast image\n",
      "  imsave(f\"{outputimg}{file[12::]}\",koordinaadid(file))\n",
      "C:\\Users\\revolver\\AppData\\Local\\Temp/ipykernel_22980/1185812483.py:8: UserWarning: skimageTEST2\\abstract_paul-brach_2041.jpg is a low contrast image\n",
      "  imsave(f\"{outputimg}{file[12::]}\",koordinaadid(file))\n",
      "C:\\Users\\revolver\\AppData\\Local\\Temp/ipykernel_22980/1185812483.py:8: UserWarning: skimageTEST2\\abstract_paul-brach_2042.jpg is a low contrast image\n",
      "  imsave(f\"{outputimg}{file[12::]}\",koordinaadid(file))\n",
      "C:\\Users\\revolver\\AppData\\Local\\Temp/ipykernel_22980/1185812483.py:8: UserWarning: skimageTEST2\\abstract_paul-brach_2044.jpg is a low contrast image\n",
      "  imsave(f\"{outputimg}{file[12::]}\",koordinaadid(file))\n",
      "C:\\Users\\revolver\\AppData\\Local\\Temp/ipykernel_22980/1185812483.py:8: UserWarning: skimageTEST2\\abstract_peter-downsbrough_3887.jpg is a low contrast image\n",
      "  imsave(f\"{outputimg}{file[12::]}\",koordinaadid(file))\n",
      "C:\\Users\\revolver\\AppData\\Local\\Temp/ipykernel_22980/1185812483.py:8: UserWarning: skimageTEST2\\abstract_robert-barry_1100.jpg is a low contrast image\n",
      "  imsave(f\"{outputimg}{file[12::]}\",koordinaadid(file))\n",
      "C:\\Users\\revolver\\AppData\\Local\\Temp/ipykernel_22980/1185812483.py:8: UserWarning: skimageTEST2\\abstract_rudolf-de-crignis_3217.jpg is a low contrast image\n",
      "  imsave(f\"{outputimg}{file[12::]}\",koordinaadid(file))\n",
      "C:\\Users\\revolver\\AppData\\Local\\Temp/ipykernel_22980/1185812483.py:8: UserWarning: skimageTEST2\\abstract_tano-festa_4462.jpg is a low contrast image\n",
      "  imsave(f\"{outputimg}{file[12::]}\",koordinaadid(file))\n",
      "C:\\Users\\revolver\\AppData\\Local\\Temp/ipykernel_22980/1185812483.py:8: UserWarning: skimageTEST2\\abstract_xu-hongming_6036.jpg is a low contrast image\n",
      "  imsave(f\"{outputimg}{file[12::]}\",koordinaadid(file))\n",
      "C:\\Users\\revolver\\AppData\\Local\\Temp/ipykernel_22980/1185812483.py:8: UserWarning: skimageTEST2\\abstract_yves-gaucher_4889.jpg is a low contrast image\n",
      "  imsave(f\"{outputimg}{file[12::]}\",koordinaadid(file))\n",
      "C:\\Users\\revolver\\AppData\\Local\\Temp/ipykernel_22980/1185812483.py:8: UserWarning: skimageTEST2\\abstract_yves-gaucher_4892.jpg is a low contrast image\n",
      "  imsave(f\"{outputimg}{file[12::]}\",koordinaadid(file))\n",
      "C:\\Users\\revolver\\AppData\\Local\\Temp/ipykernel_22980/1185812483.py:8: UserWarning: skimageTEST2\\abstract_yves-klein_6926.jpg is a low contrast image\n",
      "  imsave(f\"{outputimg}{file[12::]}\",koordinaadid(file))\n"
     ]
    },
    {
     "name": "stdout",
     "output_type": "stream",
     "text": [
      "END!!!\n"
     ]
    }
   ],
   "source": [
    "# folder PATH\n",
    "inputimg = \"skimageTEST1\"\n",
    "outputimg = \"skimageTEST2\"\n",
    "\n",
    "filenames = glob.glob(f\"{inputimg}/*\")\n",
    "\n",
    "for file in filenames:\n",
    "    imsave(f\"{outputimg}{file[12::]}\",koordinaadid(file))\n",
    "print('END!!!')"
   ]
  }
 ],
 "metadata": {
  "kernelspec": {
   "display_name": "gan",
   "language": "python",
   "name": "gan"
  },
  "language_info": {
   "codemirror_mode": {
    "name": "ipython",
    "version": 3
   },
   "file_extension": ".py",
   "mimetype": "text/x-python",
   "name": "python",
   "nbconvert_exporter": "python",
   "pygments_lexer": "ipython3",
   "version": "3.9.7"
  }
 },
 "nbformat": 4,
 "nbformat_minor": 5
}
