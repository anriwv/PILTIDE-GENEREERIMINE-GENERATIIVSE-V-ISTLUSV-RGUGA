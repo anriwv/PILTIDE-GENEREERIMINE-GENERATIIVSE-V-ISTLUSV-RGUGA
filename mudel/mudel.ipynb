{
 "cells": [
  {
   "attachments": {},
   "cell_type": "markdown",
   "id": "772997b9",
   "metadata": {},
   "source": [
    "teegide importimine\n",
    "\n",
    "Esimene rida impordib numpy mooduli, mida kasutatakse laialdaselt teaduslike arvutuste jaoks, eriti matemaatiliste operatsioonide jaoks. \n",
    "\n",
    "Teine rida impordib os mooduli, mis võimaldab teha tegevusi failisüsteemiga, näiteks lugeda ja kirjutada faile.\n",
    "\n",
    "Järgmised read impordivad mitmeid klasside definitsioone Keras'i teegist. Need klassid hõlmavad mitmesuguseid kihte nagu Dense, Flatten, Reshape, Input, Conv2D, Conv2DTranspose, Dropout ja LeakyReLU."
   ]
  },
  {
   "cell_type": "code",
   "execution_count": null,
   "id": "850d3f61",
   "metadata": {},
   "outputs": [],
   "source": [
    "import numpy as np\n",
    "import os\n",
    "from keras.models import Sequential, Model\n",
    "from keras.layers import Dense, Flatten, Reshape, Input, Conv2D, Conv2DTranspose, Dropout, LeakyReLU\n",
    "from keras.optimizers import Adam\n",
    "from keras.preprocessing.image import ImageDataGenerator\n",
    "import matplotlib.pyplot as plt"
   ]
  },
  {
   "attachments": {},
   "cell_type": "markdown",
   "id": "4609a726",
   "metadata": {},
   "source": [
    "read defineerivad hüperparameetreid\n",
    "\n",
    "„Epochs“ määrab, kui palju koolitus tsükleid tehakse,\n",
    "\n",
    "„batch_size“ määrab kui suure partii kaupa andmeid korraga koolitatakse,\n",
    "\n",
    "„steps_per_epoch“ määrab, kui palju koolitusetappe tehakse iga tsükli kohta,\n",
    "\n",
    "„latent_dim“ määrab, mida kasutatakse võrgu sisendiks,\n",
    "\n",
    "„img_shape“ määrab piltide kuju, \n",
    "\n",
    "„learning_rate“ ning „beta_1“ määravad „Adam“ optimeerija hüperparameetrid "
   ]
  },
  {
   "cell_type": "code",
   "execution_count": null,
   "id": "b230c545",
   "metadata": {},
   "outputs": [],
   "source": [
    "# Define hyperparameters\n",
    "epochs = 100\n",
    "batch_size = 32\n",
    "steps_per_epoch = 254  \n",
    "latent_dim = 100\n",
    "img_shape = (128, 128, 1)\n",
    "learning_rate = 0.0002\n",
    "beta_1 = 0.5"
   ]
  },
  {
   "cell_type": "markdown",
   "id": "083b38ce",
   "metadata": {},
   "source": [
    "read laevad andmeid "
   ]
  },
  {
   "cell_type": "code",
   "execution_count": null,
   "id": "4fbe1b31",
   "metadata": {},
   "outputs": [],
   "source": [
    "# Load data\n",
    "data = ImageDataGenerator(rescale=1./255).flow_from_directory(\n",
    "    '/kaggle/input',\n",
    "    target_size=(128, 128),\n",
    "    batch_size=batch_size,\n",
    "    color_mode='grayscale'"
   ]
  },
  {
   "attachments": {},
   "cell_type": "markdown",
   "id": "5e89567a",
   "metadata": {},
   "source": [
    "defineeritakse diskriminaator võrgu mudel\n",
    "\n",
    "Mudeli struktuur koosneb viiest kihist. Sisendkiht võtab vastu pildid. Sellele järgneb 3 konvolutsioonikihti (Conv2D), mis aitavad tuvastada olulisi mustreid ja omadusi piltidel. Pärast seda on täielikult ühendatud kiht, mis teeb otsuse selle kohta, kas pilt on autentne või võlts. Viimane kiht väljastab väljundina tõenäosuse, et pilt on ehtne. "
   ]
  },
  {
   "cell_type": "code",
   "execution_count": null,
   "id": "9a360cde",
   "metadata": {},
   "outputs": [],
   "source": [
    "# Define discriminator model\n",
    "def build_discriminator():\n",
    "    model = Sequential()\n",
    "    model.add(Conv2D(32, kernel_size=4, strides=2, padding=\"same\", input_shape=img_shape))\n",
    "    model.add(LeakyReLU(alpha=0.2))\n",
    "    model.add(Dropout(0.25))\n",
    "    \n",
    "    model.add(Conv2D(64, kernel_size=4, strides=2, padding=\"same\"))\n",
    "    model.add(LeakyReLU(alpha=0.2))\n",
    "    model.add(Dropout(0.25))\n",
    "    \n",
    "    model.add(Conv2D(128, kernel_size=4, strides=2, padding=\"same\"))\n",
    "    model.add(LeakyReLU(alpha=0.2))\n",
    "    model.add(Dropout(0.25))\n",
    "    \n",
    "    model.add(Flatten())\n",
    "    model.add(Dense(1, activation=\"sigmoid\"))\n",
    "    model.summary()\n",
    "    img = Input(shape=img_shape)\n",
    "    validity = model(img)\n",
    "    return Model(img, validity)"
   ]
  },
  {
   "attachments": {},
   "cell_type": "markdown",
   "id": "1929b035",
   "metadata": {},
   "source": [
    "defineeritakse generatiivse võrgu mudel\n",
    "\n",
    "Mudeli struktuur koosneb viiest kihist. Sisendkiht võtab vastu „noise“ sisendi, mis on juhusliku müra vektori kujul. Sellele järgneb „Dense“ kiht ja veel 3 konvolutsioonikihti (Conv2DTranspose). Need kihid aitavad luua võrgule spetsiifilisi kujundeid ja mustreid."
   ]
  },
  {
   "cell_type": "code",
   "execution_count": null,
   "id": "288b43d6",
   "metadata": {},
   "outputs": [],
   "source": [
    "# Define generator model\n",
    "def build_generator():\n",
    "    model = Sequential()\n",
    "    model.add(Dense(128 * 16 * 16, activation=\"relu\", input_dim=latent_dim))\n",
    "    model.add(Reshape((16, 16, 128)))\n",
    "    \n",
    "    model.add(Conv2DTranspose(128, kernel_size=4, strides=2, padding=\"same\"))\n",
    "    \n",
    "    model.add(Conv2DTranspose(64, kernel_size=4, strides=2, padding=\"same\"))\n",
    "    \n",
    "    model.add(Conv2DTranspose(1, kernel_size=4, strides=2, padding=\"same\", activation=\"tanh\"))\n",
    "    model.summary()\n",
    "    noise = Input(shape=(latent_dim,))\n",
    "    img = model(noise)\n",
    "    return Model(noise, img)"
   ]
  },
  {
   "cell_type": "markdown",
   "id": "b98f6521",
   "metadata": {},
   "source": [
    "See mudel koosneb generaatori ja diskriminaatori mudelitest"
   ]
  },
  {
   "cell_type": "code",
   "execution_count": null,
   "id": "7667f7a8",
   "metadata": {},
   "outputs": [],
   "source": [
    "# Define GAN model\n",
    "def build_gan(generator, discriminator):\n",
    "    discriminator.trainable = False\n",
    "    gan_input = Input(shape=(latent_dim,))\n",
    "    gan_output = discriminator(generator(gan_input))\n",
    "    gan = Model(gan_input, gan_output)\n",
    "    gan.summary()\n",
    "    return gan"
   ]
  },
  {
   "cell_type": "markdown",
   "id": "9203a80d",
   "metadata": {},
   "source": [
    "Antud kood loob ja kompileerib kolm mudelit "
   ]
  },
  {
   "cell_type": "code",
   "execution_count": null,
   "id": "d9edb2f3",
   "metadata": {},
   "outputs": [],
   "source": [
    "# Build and compile discriminator model\n",
    "discriminator = build_discriminator()\n",
    "discriminator.compile(loss='binary_crossentropy', optimizer=Adam(lr=learning_rate, beta_1=beta_1), metrics=['accuracy'])\n",
    "\n",
    "# Build and compile generator model\n",
    "generator = build_generator()\n",
    "generator.compile(loss='binary_crossentropy', optimizer=Adam(lr=learning_rate, beta_1=beta_1))\n",
    "\n",
    "# Build GAN model\n",
    "gan = build_gan(generator, discriminator)\n",
    "gan.compile(loss='binary_crossentropy', optimizer=Adam(lr=learning_rate, beta_1=beta_1))"
   ]
  },
  {
   "cell_type": "code",
   "execution_count": null,
   "id": "80ba0716",
   "metadata": {},
   "outputs": [],
   "source": []
  },
  {
   "cell_type": "code",
   "execution_count": null,
   "id": "baa5a093",
   "metadata": {},
   "outputs": [],
   "source": [
    "# Define arrays to store loss values\n",
    "d_losses = []\n",
    "g_losses = []\n",
    "import tensorflow as tf\n",
    "tf.debugging.set_log_device_placement(True)"
   ]
  },
  {
   "attachments": {},
   "cell_type": "markdown",
   "id": "cc0d1c6e",
   "metadata": {},
   "source": [
    "Treenimise protsessi koodi osa algab spetsifitseerides GPU (graafikaprotsessori) indeksiga 0 kasutamise TensorFlow'i meetodiga „tf.device“. Seejärel algab koolitustsükkel, kus igas epohhis väljastatakse hetke epohhi number ja epohhide koguarv. Igas epohhis koolitatakse diskriminaatorit ja generaatorit meetodiga „train_on_batch“.   "
   ]
  },
  {
   "cell_type": "code",
   "execution_count": null,
   "id": "fbab2260",
   "metadata": {},
   "outputs": [],
   "source": [
    "with tf.device('GPU:0'):\n",
    "    # Begin training loop\n",
    "    for epoch in range(epochs):\n",
    "        print(f\"Epoch {epoch+1}/{epochs}\")\n",
    "        for step in range(steps_per_epoch):\n",
    "\n",
    "            # Train discriminator on real images\n",
    "            real_images, _ = data.next()\n",
    "            real_labels = np.ones((batch_size, 1))\n",
    "            d_loss_real = discriminator.train_on_batch(real_images, real_labels)\n",
    "\n",
    "            # Train discriminator on fake images\n",
    "            noise = np.random.normal(0, 1, (batch_size, latent_dim))\n",
    "            fake_images = generator.predict(noise)\n",
    "            fake_labels = np.zeros((batch_size, 1))\n",
    "            d_loss_fake = discriminator.train_on_batch(fake_images, fake_labels)\n",
    "\n",
    "            # Calculate discriminator loss and accuracy\n",
    "            d_loss, d_acc = 0.5 * np.add(d_loss_real, d_loss_fake)\n",
    "\n",
    "            # Train generator\n",
    "            noise = np.random.normal(0, 1, (batch_size, latent_dim))\n",
    "            real_labels = np.ones((batch_size, 1))\n",
    "            g_loss = gan.train_on_batch(noise, real_labels)\n",
    "\n",
    "        # Print loss values\n",
    "        print(f\"Discriminator loss: {d_loss}, accuracy: {d_acc}\")\n",
    "        print(f\"Generator loss: {g_loss}\")\n",
    "\n",
    "        # Save loss values for plotting\n",
    "        d_losses.append(d_loss)\n",
    "        g_losses.append(g_loss)\n",
    "\n",
    "        # Generate example images\n",
    "        if epoch % 10 == 0:\n",
    "            noise = np.random.normal(0, 1, (1, latent_dim))\n",
    "            generated_image = generator.predict(noise)\n",
    "            plt.imshow(generated_image[0, :, :, 0], cmap='gray')\n",
    "            plt.show()"
   ]
  },
  {
   "attachments": {},
   "cell_type": "markdown",
   "id": "6a709628",
   "metadata": {},
   "source": [
    "Ridade 7-10 vahel treenitakse diskriminaatorit reaalsete piltidega. „real_images, _ = data.next()“ laeb järgmise partii reaalsete piltide andmeid ja „_“ tähistab teist väljundit, mida ei kasutata. \n",
    "„real_labels“ moodustab maatriksi, kus kõik elemendid on 1, mis tähendab, et diskriminaatorile antakse sisse reaalsed pildid ja eesmärk on nende tõelisust korrektselt klassifitseerida. \n",
    "„discriminator.train_on_batch(real_images, real_labels)“ meetod treenib diskriminaatorit antud partii andmetega ning tagastab kaod, mida kasutatakse hiljem diskriminaatori kadude ja täpsuse arvutamisel.\n",
    "\n",
    "Ridadel 12-16 treenitakse diskriminaatorit võltsitud piltidega. Esmalt genereeritakse valik juhuslikke vektoreid „noise“. \n",
    "Seejärel moodustatakse võltsitud piltidele maatriks „fake_labels“, kus kõik elemendid on nullid. \n",
    "Meetod „discriminator.train_on_batch(fake_images, fake_labels)“ treenib diskriminaatorit võltsitud piltidega ja tagastab kaod, mida kasutatakse hiljem diskriminaatori kadude ja täpsuse arvutamisel.\n",
    "\n",
    "Ridade 18-19 vahel arvutatakse diskriminaatori kaod ja täpsus, kasutades „np.add“ meetodit, et leid keskmistatud kaotus tõeliste ja võltsitud piltide vahel.\n",
    " \n",
    "Seejärel ridade 22-24 vahel treenitakse generaatorit, kasutades juhuslikult genereeritud mürasignaale (mis vastavad võrgu sisendile) ning märgistades neid tõelistena (real_labels). See tähendab, et generaatoril on eesmärk luua pilt, mis sarnaneb reaalsele pildile, mis omakorda petab diskriminaatorit. Treeningu lõppedes tagastab meetod „g_loss“, mis kajastab generaatori kaotust antud partiiga treenides. \n",
    "\n",
    "Ridade 26-32 vahel väljastatakse ekraanile diskriminaatori ja generaatori kaod, mida kasutatakse mudeli hindamiseks. Seejärel lisatakse need kaod vastavatesse kaotuste listidesse (d_losses ja g_losses), mis on hiljem kasutatud kaotuste kuvamiseks graafikul. Iga 10 epohhi järel genereeritakse üks näidispilt, mille kuvab seejärel matplotlib. Selline lähenemine võimaldab mudeli treeningu ajal visualiseerida, kuidas generatiivne mudel areneb.\n",
    "\n",
    "\n"
   ]
  }
 ],
 "metadata": {
  "kernelspec": {
   "display_name": "gan",
   "language": "python",
   "name": "gan"
  },
  "language_info": {
   "codemirror_mode": {
    "name": "ipython",
    "version": 3
   },
   "file_extension": ".py",
   "mimetype": "text/x-python",
   "name": "python",
   "nbconvert_exporter": "python",
   "pygments_lexer": "ipython3",
   "version": "3.9.7"
  }
 },
 "nbformat": 4,
 "nbformat_minor": 5
}
